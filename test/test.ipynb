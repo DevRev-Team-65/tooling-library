{
 "cells": [
  {
   "cell_type": "code",
   "execution_count": 6,
   "metadata": {},
   "outputs": [],
   "source": [
    "from langchain.embeddings import OpenAIEmbeddings\n",
    "from retrievers import VectorStoreRetriever\n",
    "from config import openai_key\n",
    "from functions import devrev_functions\n",
    "\n",
    "openai_embeddings = OpenAIEmbeddings(\n",
    "    openai_api_key = openai_key\n",
    ")\n",
    "\n",
    "vs_retriever = VectorStoreRetriever(\n",
    "    embeddings=openai_embeddings,\n",
    "    name = \"vs_rtr_01\",\n",
    "    init_functions=devrev_functions.copy()\n",
    ")"
   ]
  },
  {
   "cell_type": "code",
   "execution_count": 5,
   "metadata": {},
   "outputs": [
    {
     "data": {
      "text/plain": [
       "[Document(page_content='{\"name\": \"resolution_status\", \"description\": \"Gives an array of only unresolved issues\", \"parameters\": {\"type\": \"object\", \"properties\": {\"unresolved_issue\": {\"title\": \"unresolved_issue\", \"type\": \"array\", \"description\": \"An array of only unresolved issues.\"}}, \"required\": []}}', metadata={'index': 16}),\n",
       " Document(page_content='{\"name\": \"works_list\", \"description\": \"Returns a list of work items matching the request.\", \"parameters\": {\"type\": \"object\", \"properties\": {\"applies_to_part\": {\"title\": \"applies_to_part\", \"type\": \"array of strings\", \"description\": \"Filters for work belonging to any of the provided parts.\"}, \"created_by\": {\"title\": \"created_by\", \"type\": \"array of strings\", \"description\": \"Filters for work created by any of these users.\"}, \"issue.priority\": {\"title\": \"issue.priority\", \"type\": [\"P0\", \"P1\", \"P2\", \"P3\"], \"description\": \"Filters for issues with any of the provided priorities. Allowed values: p0, p1, p2, p3.\"}, \"issue.rev_orgs\": {\"title\": \"issue.rev_orgs\", \"type\": \"array of strings\", \"description\": \"Filters for issues with any of the provided Rev organizations.\"}, \"limit\": {\"title\": \"limit\", \"type\": \"integer (int32)\", \"description\": \"The maximum number of works to return. The default is \\'50\\'.\"}, \"owned_by\": {\"title\": \"owned_by\", \"type\": \"array of strings\", \"description\": \"Filters for work owned by any of these users.\"}, \"stage.name\": {\"title\": \"stage.name\", \"type\": \"array of strings\", \"description\": \"Filters for records in the provided stage(s) by name.\"}, \"ticket.needs_response\": {\"title\": \"ticket.needs_response\", \"type\": \"boolean\", \"description\": \"Filters for tickets that need a response.\"}, \"ticket.rev_org\": {\"title\": \"ticket.rev_org\", \"type\": \"array of strings\", \"description\": \"Filters for tickets associated with any of the provided Rev organizations.\"}, \"ticket.severity\": {\"title\": \"ticket.severity\", \"type\": \"array of strings\", \"description\": \"Filters for tickets with any of the provided severities. Allowed values: blocker, high, low, medium.\"}, \"ticket.source_channel\": {\"title\": \"ticket.source_channel\", \"type\": \"array of strings\", \"description\": \"Filters for tickets with any of the provided source channels.\"}, \"type\": {\"title\": \"type\", \"type\": \"array of strings\", \"description\": \"Filters for work of the provided types. Allowed values: issue, ticket, task.\"}}, \"required\": []}}', metadata={'index': 0}),\n",
       " Document(page_content='{\"name\": \"prioritize_objects\", \"description\": \"Returns a list of objects sorted by priority. The logic of what constitutes priority for a given object is an internal implementation detail.\", \"parameters\": {\"type\": \"object\", \"properties\": {\"objects\": {\"title\": \"objects\", \"type\": \"array of objects\", \"description\": \"A list of objects to be prioritized.\"}}, \"required\": []}}', metadata={'index': 2}),\n",
       " Document(page_content='{\"name\": \"who_am_i\", \"description\": \"Returns the ID of the current user.\", \"parameters\": {\"type\": \"object\", \"properties\": {}}}', metadata={'index': 8})]"
      ]
     },
     "execution_count": 5,
     "metadata": {},
     "output_type": "execute_result"
    }
   ],
   "source": [
    "vs_retriever.find_functions('what are my P0 issues')"
   ]
  },
  {
   "cell_type": "code",
   "execution_count": 7,
   "metadata": {},
   "outputs": [
    {
     "name": "stderr",
     "output_type": "stream",
     "text": [
      "c:\\Users\\kayde\\OneDrive\\Desktop\\devrev-openai-classic\\.venv\\lib\\site-packages\\tqdm\\auto.py:21: TqdmWarning: IProgress not found. Please update jupyter and ipywidgets. See https://ipywidgets.readthedocs.io/en/stable/user_install.html\n",
      "  from .autonotebook import tqdm as notebook_tqdm\n"
     ]
    }
   ],
   "source": [
    "from langchain.embeddings import HuggingFaceEmbeddings\n",
    "from retrievers import CustomMultiQueryRetriever\n",
    "from langchain.chat_models import ChatOpenAI\n",
    "from config import openai_key\n",
    "from functions import devrev_functions\n",
    "\n",
    "\n",
    "hf_embeddings = HuggingFaceEmbeddings()\n",
    "\n",
    "chat_llm = ChatOpenAI(\n",
    "    openai_api_key = openai_key,\n",
    "    temperature=0.7,\n",
    ")\n",
    "\n",
    "cmq_ret = CustomMultiQueryRetriever(\n",
    "    chat_llm,\n",
    "    embeddings=hf_embeddings,\n",
    "    name = \"cmq_ret_01\",\n",
    "    init_functions=devrev_functions.copy()\n",
    ")"
   ]
  },
  {
   "cell_type": "code",
   "execution_count": 8,
   "metadata": {},
   "outputs": [],
   "source": [
    "ret_fun = cmq_ret.find_functions('Search for objects related to the customer CustomerABC and create action items from the search results.')"
   ]
  },
  {
   "cell_type": "code",
   "execution_count": 6,
   "metadata": {},
   "outputs": [],
   "source": [
    "from langchain.chat_models import ChatOpenAI\n",
    "\n",
    "from verification import Verifier\n",
    "\n",
    "chat_llm = ChatOpenAI(\n",
    "    openai_api_key = openai_key\n",
    ")\n",
    "\n",
    "verifier = Verifier(\n",
    "    chat_llm = chat_llm\n",
    ")"
   ]
  },
  {
   "cell_type": "code",
   "execution_count": 24,
   "metadata": {},
   "outputs": [
    {
     "data": {
      "text/plain": [
       "'False'"
      ]
     },
     "execution_count": 24,
     "metadata": {},
     "output_type": "execute_result"
    }
   ],
   "source": [
    "query = \"Summarize work items similar to don:core:dvrv-us-1:devo/0:issue/1\"\n",
    "schema = '''\n",
    "[\n",
    "    {\n",
    "        \"tool_name\": \"get_similar_work_items\",\n",
    "        \"arguments\": [\n",
    "            {\n",
    "                \"argument_name\": \"work_id\",\n",
    "                \"argument_value\": \"don:core:dvrv-us-1:devo/0:issue/1\"\n",
    "            }\n",
    "        ]\n",
    "    },\n",
    "    {\n",
    "        \"tool_name\": \"summarize_objects\",\n",
    "        \"arguments\": [\n",
    "            {\n",
    "                \"argument_name\": \"objects\",\n",
    "                \"argument_value\": \"$$PREV[0]\"\n",
    "            }\n",
    "        ]\n",
    "    }\n",
    "]'''\n",
    "verifier(answer=schema,query=query,init_functions=devrev_functions)['text']\n",
    "\n"
   ]
  },
  {
   "cell_type": "code",
   "execution_count": 13,
   "metadata": {},
   "outputs": [],
   "source": [
    "from composers.cot_composer import ChainOfThoughtComposer\n",
    "from examples import example_queries\n",
    "\n",
    "example_str = \"\".join(\n",
    "    [\n",
    "        f\"\"\"\n",
    "        Query:\n",
    "        {query}\n",
    "        Answer:\n",
    "        {functions}\n",
    "        \"\"\"\n",
    "        for query, functions in example_queries[:4]\n",
    "    ]\n",
    ")\n",
    "\n",
    "composer = ChainOfThoughtComposer(\n",
    "    chat_llm=chat_llm,\n",
    ")"
   ]
  },
  {
   "cell_type": "code",
   "execution_count": 15,
   "metadata": {},
   "outputs": [],
   "source": [
    "query = 'Search for objects related to the customer CustomerABC and create action items from the search results.'\n",
    "res = composer(\n",
    "    query,\n",
    "    ret_fun,\n",
    "    example_str\n",
    ")['text']"
   ]
  },
  {
   "cell_type": "code",
   "execution_count": 17,
   "metadata": {},
   "outputs": [
    {
     "name": "stdout",
     "output_type": "stream",
     "text": [
      "[\n",
      "    {\n",
      "        \"tool_name\": \"search_object_by_name\",\n",
      "        \"arguments\": [\n",
      "            {\n",
      "                \"argument_name\": \"query\",\n",
      "                \"argument_value\": \"CustomerABC\"\n",
      "            }\n",
      "        ]\n",
      "    },\n",
      "    {\n",
      "        \"tool_name\": \"create_actionable_tasks_from_text\",\n",
      "        \"arguments\": [\n",
      "            {\n",
      "                \"argument_name\": \"text\",\n",
      "                \"argument_value\": \"$$PREV[0]\"\n",
      "            }\n",
      "        ]\n",
      "    }\n",
      "]\n"
     ]
    }
   ],
   "source": [
    "print(res)\n"
   ]
  }
 ],
 "metadata": {
  "kernelspec": {
   "display_name": ".venv",
   "language": "python",
   "name": "python3"
  },
  "language_info": {
   "codemirror_mode": {
    "name": "ipython",
    "version": 3
   },
   "file_extension": ".py",
   "mimetype": "text/x-python",
   "name": "python",
   "nbconvert_exporter": "python",
   "pygments_lexer": "ipython3",
   "version": "3.10.11"
  }
 },
 "nbformat": 4,
 "nbformat_minor": 2
}
